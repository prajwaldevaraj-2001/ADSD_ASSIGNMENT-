{
 "cells": [
  {
   "cell_type": "code",
   "execution_count": 12,
   "metadata": {},
   "outputs": [],
   "source": [
    "import sqlite3"
   ]
  },
  {
   "cell_type": "code",
   "execution_count": 13,
   "metadata": {},
   "outputs": [
    {
     "data": {
      "text/plain": [
       "<sqlite3.Connection at 0x732dc048db70>"
      ]
     },
     "execution_count": 13,
     "metadata": {},
     "output_type": "execute_result"
    }
   ],
   "source": [
    "connection = sqlite3.connect(\"pets.db\")\n",
    "connection"
   ]
  },
  {
   "cell_type": "code",
   "execution_count": 14,
   "metadata": {},
   "outputs": [
    {
     "data": {
      "text/plain": [
       "<sqlite3.Cursor at 0x732dc03e14c0>"
      ]
     },
     "execution_count": 14,
     "metadata": {},
     "output_type": "execute_result"
    }
   ],
   "source": [
    "cursor = connection.cursor()\n",
    "cursor"
   ]
  },
  {
   "cell_type": "code",
   "execution_count": 15,
   "metadata": {},
   "outputs": [
    {
     "data": {
      "text/plain": [
       "<sqlite3.Cursor at 0x732dc03e14c0>"
      ]
     },
     "execution_count": 15,
     "metadata": {},
     "output_type": "execute_result"
    }
   ],
   "source": [
    "cursor.execute(\"\"\"\n",
    "    create table if not exists pets(\n",
    "        id integer primary key autoincrement,\n",
    "        name text not null,\n",
    "        type text not null,\n",
    "        age integer,\n",
    "        owner text\n",
    "    )\n",
    "\"\"\")\n"
   ]
  },
  {
   "cell_type": "code",
   "execution_count": 16,
   "metadata": {},
   "outputs": [],
   "source": [
    "\n",
    "connection.commit()"
   ]
  },
  {
   "cell_type": "code",
   "execution_count": 19,
   "metadata": {},
   "outputs": [
    {
     "data": {
      "text/plain": [
       "<sqlite3.Cursor at 0x732dc03e14c0>"
      ]
     },
     "execution_count": 19,
     "metadata": {},
     "output_type": "execute_result"
    }
   ],
   "source": [
    "name = \"dorothy\"\n",
    "cursor.execute(\"\"\"\n",
    "    insert \n",
    "        into pets(name, type, age, owner) \n",
    "        values (?,?,?,?)\n",
    "    \"\"\", (name,\"dog\",9,\"greg\"))"
   ]
  },
  {
   "cell_type": "code",
   "execution_count": 20,
   "metadata": {},
   "outputs": [],
   "source": [
    "connection.commit()"
   ]
  },
  {
   "cell_type": "code",
   "execution_count": 21,
   "metadata": {},
   "outputs": [],
   "source": [
    "for name in [\"suzy\",\"casey\",\"heidi\"]:\n",
    "    cursor.execute(\"\"\"\n",
    "        insert \n",
    "            into pets(name, type, age, owner) \n",
    "            values (?,?,?,?)\n",
    "        \"\"\", (name,\"dog\",9,\"greg\"))\n",
    "    connection.commit()"
   ]
  },
  {
   "cell_type": "code",
   "execution_count": 22,
   "metadata": {},
   "outputs": [],
   "source": [
    "for name in [\"sandy\",\"muffin\",\"shadow\"]:\n",
    "    cursor.execute(\"\"\"\n",
    "        insert \n",
    "            into pets(name, type, age, owner) \n",
    "            values (?,?,?,?)\n",
    "        \"\"\", (name,\"cat\",9,\"katie\"))\n",
    "    connection.commit()"
   ]
  },
  {
   "cell_type": "code",
   "execution_count": 23,
   "metadata": {},
   "outputs": [
    {
     "name": "stdout",
     "output_type": "stream",
     "text": [
      "(1, 'dorothy', 'dog', 9, 'greg')\n",
      "(2, 'suzy', 'dog', 9, 'greg')\n",
      "(3, 'casey', 'dog', 9, 'greg')\n",
      "(4, 'heidi', 'dog', 9, 'greg')\n",
      "(5, 'sandy', 'cat', 9, 'katie')\n",
      "(6, 'muffin', 'cat', 9, 'katie')\n",
      "(7, 'shadow', 'cat', 9, 'katie')\n"
     ]
    }
   ],
   "source": [
    "cursor.execute(\"select * from pets\")\n",
    "rows = cursor.fetchall()\n",
    "for row in rows:\n",
    "    print(row)"
   ]
  },
  {
   "cell_type": "code",
   "execution_count": 25,
   "metadata": {},
   "outputs": [
    {
     "name": "stdout",
     "output_type": "stream",
     "text": [
      "(5, 'sandy', 'cat', 9, 'katie')\n",
      "(6, 'muffin', 'cat', 9, 'katie')\n",
      "(7, 'shadow', 'cat', 9, 'katie')\n"
     ]
    }
   ],
   "source": [
    "cursor.execute(\"select * from pets where type = ?\", (\"cat\",))\n",
    "rows = cursor.fetchall()\n",
    "for row in rows:\n",
    "    print(row)"
   ]
  },
  {
   "cell_type": "code",
   "execution_count": null,
   "metadata": {},
   "outputs": [],
   "source": [
    "import sqlite3\n",
    "connection = sqlite3.connect(\"pets.db\")\n",
    "connection\n",
    "cursor = connection.cursor()\n",
    "cursor\n",
    "cursor.execute(\"\"\"\n",
    "    create table if not exists pets(\n",
    "        id integer primary key autoincrement,\n",
    "        name text not null,\n",
    "        type text not null,\n",
    "        age integer,\n",
    "        owner text\n",
    "    )\n",
    "\"\"\")\n",
    "\n",
    "\n",
    "connection.commit()\n",
    "name = \"dorothy\"\n",
    "cursor.execute(\"\"\"\n",
    "    insert \n",
    "        into pets(name, type, age, owner) \n",
    "        values (?,?,?,?)\n",
    "    \"\"\", (name,\"dog\",9,\"greg\"))\n",
    "connection.commit()\n",
    "for name in [\"suzy\",\"casey\",\"heidi\"]:\n",
    "    cursor.execute(\"\"\"\n",
    "        insert \n",
    "            into pets(name, type, age, owner) \n",
    "            values (?,?,?,?)\n",
    "        \"\"\", (name,\"dog\",9,\"greg\"))\n",
    "    connection.commit()\n",
    "for name in [\"sandy\",\"muffin\",\"shadow\"]:\n",
    "    cursor.execute(\"\"\"\n",
    "        insert \n",
    "            into pets(name, type, age, owner) \n",
    "            values (?,?,?,?)\n",
    "        \"\"\", (name,\"cat\",9,\"katie\"))\n",
    "    connection.commit()\n",
    "cursor.execute(\"select * from pets\")\n",
    "rows = cursor.fetchall()\n",
    "for row in rows:\n",
    "    print(row)\n",
    "    \n"
   ]
  },
  {
   "cell_type": "code",
   "execution_count": 26,
   "metadata": {},
   "outputs": [
    {
     "name": "stdout",
     "output_type": "stream",
     "text": [
      "(5, 'sandy', 'cat', 9, 'katie')\n"
     ]
    }
   ],
   "source": [
    "cursor.execute(\"select * from pets where type = ?\", (\"cat\",))\n",
    "row = cursor.fetchone()\n",
    "print(row)"
   ]
  },
  {
   "cell_type": "code",
   "execution_count": 27,
   "metadata": {},
   "outputs": [],
   "source": [
    "cursor.execute(\"\"\"\n",
    "    update pets\n",
    "    set age = ?\n",
    "    where name = ?\n",
    "    \"\"\", (11,\"sandy\"))\n",
    "connection.commit()\n"
   ]
  },
  {
   "cell_type": "code",
   "execution_count": 29,
   "metadata": {},
   "outputs": [],
   "source": [
    "cursor.execute(\"\"\"\n",
    "    delete from pets\n",
    "    where type = ?\n",
    "    \"\"\", (\"cat\",))\n",
    "connection.commit()"
   ]
  }
 ],
 "metadata": {
  "language_info": {
   "name": "python"
  }
 },
 "nbformat": 4,
 "nbformat_minor": 2
}
